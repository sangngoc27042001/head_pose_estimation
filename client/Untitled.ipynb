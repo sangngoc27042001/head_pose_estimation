{
 "cells": [
  {
   "cell_type": "code",
   "execution_count": 1,
   "id": "entire-closing",
   "metadata": {},
   "outputs": [],
   "source": [
    "import efficientnet.tfkeras as efn\n",
    "from tensorflow import keras\n",
    "import numpy as np\n",
    "from skimage import io\n",
    "from skimage.transform import rescale, resize, downscale_local_mean\n",
    "import tensorflow as tf"
   ]
  },
  {
   "cell_type": "code",
   "execution_count": 2,
   "id": "periodic-companion",
   "metadata": {},
   "outputs": [],
   "source": [
    "def softmax(x):\n",
    "    x -= np.max(x,axis=1, keepdims=True)\n",
    "    a = np.exp(x)\n",
    "    b = np.sum(np.exp(x), axis=1, keepdims=True)\n",
    "    return a/b"
   ]
  },
  {
   "cell_type": "code",
   "execution_count": 4,
   "id": "efficient-enough",
   "metadata": {},
   "outputs": [],
   "source": [
    "model.load_weights('WHENet.h5')"
   ]
  },
  {
   "cell_type": "code",
   "execution_count": 16,
   "id": "paperback-geneva",
   "metadata": {},
   "outputs": [],
   "source": [
    "model=tf.saved_model.load('1/model.savedmodel')"
   ]
  },
  {
   "cell_type": "code",
   "execution_count": 18,
   "id": "received-luxury",
   "metadata": {},
   "outputs": [],
   "source": [
    "img=io.imread('face.png')\n",
    "img=resize(img,(224,224))\n",
    "mean = [0.485, 0.456, 0.406]\n",
    "std = [0.229, 0.224, 0.225]\n",
    "img = (img - mean) / std\n",
    "img=img.astype('float32')"
   ]
  },
  {
   "cell_type": "code",
   "execution_count": 21,
   "id": "demographic-ethnic",
   "metadata": {},
   "outputs": [],
   "source": [
    "pred=model(np.array([img]))"
   ]
  },
  {
   "cell_type": "code",
   "execution_count": 24,
   "id": "documentary-validation",
   "metadata": {},
   "outputs": [
    {
     "data": {
      "text/plain": [
       "[<tf.Tensor: shape=(1, 120), dtype=float32, numpy=\n",
       " array([[ 1.3003943 , -0.6306996 ,  0.7934271 ,  0.6507559 ,  1.3842865 ,\n",
       "          1.349395  ,  2.1160781 ,  1.4916598 ,  0.1692698 ,  1.7042153 ,\n",
       "          1.3949298 ,  1.2580812 ,  0.5011635 ,  0.6220906 ,  2.082369  ,\n",
       "          1.2927878 ,  1.6756572 ,  1.1855235 ,  1.9265068 ,  0.8719221 ,\n",
       "          1.222812  ,  1.1345129 ,  1.2964942 ,  0.00628877,  1.1957009 ,\n",
       "          1.144022  ,  1.5749238 ,  2.4951446 ,  1.9484104 ,  2.0993989 ,\n",
       "          2.0163465 ,  1.536165  ,  1.3939227 ,  1.1995301 ,  1.3366029 ,\n",
       "          0.8688964 ,  0.35959926,  3.106366  ,  1.2090111 ,  0.9097923 ,\n",
       "          2.6122293 ,  1.7043307 ,  2.0087662 ,  0.8810147 ,  2.5941503 ,\n",
       "          1.7795058 ,  1.8307683 ,  2.73325   ,  2.4304242 ,  1.4100857 ,\n",
       "          1.1626943 ,  4.7776327 ,  0.9601601 ,  2.2209723 ,  1.8942499 ,\n",
       "          4.4008946 ,  1.5104628 ,  1.1530901 ,  1.8874882 ,  1.174167  ,\n",
       "          2.0467176 ,  3.658946  ,  2.904796  ,  2.9590347 ,  1.0761917 ,\n",
       "          1.2898775 ,  0.41386732,  2.2958071 ,  2.5505736 ,  2.3855195 ,\n",
       "          0.48679057,  2.86131   ,  0.64608616,  1.3396647 ,  2.140371  ,\n",
       "         -0.0076923 ,  1.2103179 ,  2.2427416 , -0.11247914,  1.234754  ,\n",
       "         -1.0900843 ,  1.692847  ,  1.1685494 , -0.32321247,  0.26542222,\n",
       "          1.8729903 ,  1.2317711 ,  0.7593638 ,  1.1753227 , -0.01058663,\n",
       "          1.0558131 ,  0.72451013,  0.14716586,  0.714894  ,  1.9390202 ,\n",
       "          0.527004  ,  0.8189481 ,  0.11110908,  0.81639177,  1.7337443 ,\n",
       "          1.0159179 ,  0.6126913 ,  0.7678729 ,  0.29222485,  0.49367633,\n",
       "          0.42627126,  1.210543  ,  0.38343075,  0.9156055 ,  0.2644409 ,\n",
       "         -0.8345472 ,  0.50051975, -0.12766612,  0.55490327,  0.81394356,\n",
       "          0.25428745,  0.6920721 , -1.4959761 ,  1.3868445 ,  0.73577464]],\n",
       "       dtype=float32)>,\n",
       " <tf.Tensor: shape=(1, 66), dtype=float32, numpy=\n",
       " array([[ 1.7057083 ,  1.2380719 , -0.7357377 ,  0.5053787 , -0.40216687,\n",
       "          0.76503253,  1.4994712 ,  0.36459258,  1.5870034 ,  0.75114304,\n",
       "          0.17297634, -0.0972243 ,  0.6463386 , -0.56283355, -0.59852767,\n",
       "         -0.80129117,  0.16050404,  1.0421368 , -0.8273875 ,  0.6635055 ,\n",
       "         -1.0076576 ,  1.4353044 ,  2.3045633 ,  0.9361954 ,  1.2583482 ,\n",
       "         -0.6870757 ,  2.2812912 ,  3.4414992 ,  3.4445262 ,  1.7395251 ,\n",
       "          1.4863876 , -0.14204481, -1.2241886 ,  0.5728063 ,  0.6398797 ,\n",
       "          1.1299156 ,  1.8631791 ,  1.1217707 ,  1.06712   ,  0.7623489 ,\n",
       "          0.958483  ,  2.2690094 ,  0.17880502,  0.9324093 , -0.07660393,\n",
       "          1.8415918 ,  1.3283548 ,  3.5780995 , -0.94054544,  2.585119  ,\n",
       "         -0.8618833 ,  0.84510714,  1.1288877 ,  2.4898436 ,  1.605504  ,\n",
       "          1.9685738 ,  2.1472847 ,  1.1580164 ,  0.31569737, -0.5282777 ,\n",
       "          0.7184274 ,  2.114792  , -0.67998236,  0.67546725,  0.6426777 ,\n",
       "          0.26473   ]], dtype=float32)>,\n",
       " <tf.Tensor: shape=(1, 66), dtype=float32, numpy=\n",
       " array([[ 0.12054193,  0.4278512 , -0.01645485,  1.3929269 , -0.5604044 ,\n",
       "          0.38808075,  0.78072935,  2.1515698 ,  0.927653  ,  0.36775783,\n",
       "          1.3058889 ,  0.6977203 , -0.68187714,  0.4325254 , -0.2628032 ,\n",
       "         -0.7562776 ,  2.6077363 , -0.3140718 ,  1.8845831 ,  0.2843752 ,\n",
       "         -0.27744606,  0.5865879 ,  0.06405072,  0.7409569 ,  0.22829649,\n",
       "          1.2844144 ,  2.715855  , -0.3843636 , -0.8530691 , -0.81636375,\n",
       "          0.02112976,  1.6033634 , -0.3787851 , -0.48127836,  3.5674481 ,\n",
       "         -0.46126863, -0.10202795, -0.8753011 ,  0.6104037 ,  0.41017732,\n",
       "         -0.43147987,  0.40554637,  0.47068763,  0.81735796,  2.322421  ,\n",
       "         -0.06696143,  1.1655812 ,  1.6555915 ,  1.0515528 , -0.8682653 ,\n",
       "         -0.5169012 ,  1.7744111 ,  0.55588   ,  0.07892224,  0.67751324,\n",
       "         -0.47890374,  2.1874297 ,  1.1225117 ,  1.5545073 ,  0.71839   ,\n",
       "          1.4498485 ,  1.5712672 ,  0.13383427, -0.4532449 ,  0.13296619,\n",
       "         -0.22746272]], dtype=float32)>]"
      ]
     },
     "execution_count": 24,
     "metadata": {},
     "output_type": "execute_result"
    }
   ],
   "source": [
    "pred"
   ]
  },
  {
   "cell_type": "code",
   "execution_count": 22,
   "id": "local-charity",
   "metadata": {},
   "outputs": [],
   "source": [
    "idx_tensor = [idx for idx in range(66)]\n",
    "idx_tensor = np.array(idx_tensor, dtype=np.float32)\n",
    "idx_tensor_yaw = [idx for idx in range(120)]\n",
    "idx_tensor_yaw = np.array(idx_tensor_yaw, dtype=np.float32)\n",
    "def get_angle(pred):\n",
    "        yaw_predicted = softmax(pred[0])\n",
    "        pitch_predicted = softmax(pred[1])\n",
    "        roll_predicted = softmax(pred[2])\n",
    "        yaw_predicted = np.sum(yaw_predicted*idx_tensor_yaw, axis=1)*3-180\n",
    "        pitch_predicted = np.sum(pitch_predicted * idx_tensor, axis=1) * 3 - 99\n",
    "        roll_predicted = np.sum(roll_predicted * idx_tensor, axis=1) * 3 - 99\n",
    "        return yaw_predicted, pitch_predicted, roll_predicted"
   ]
  },
  {
   "cell_type": "code",
   "execution_count": 23,
   "id": "caroline-beads",
   "metadata": {},
   "outputs": [
    {
     "data": {
      "text/plain": [
       "(array([-20.462997], dtype=float32),\n",
       " array([7.847122], dtype=float32),\n",
       " array([-0.3040924], dtype=float32))"
      ]
     },
     "execution_count": 23,
     "metadata": {},
     "output_type": "execute_result"
    }
   ],
   "source": [
    "get_angle(pred)"
   ]
  }
 ],
 "metadata": {
  "kernelspec": {
   "display_name": "Python 3",
   "language": "python",
   "name": "python3"
  },
  "language_info": {
   "codemirror_mode": {
    "name": "ipython",
    "version": 3
   },
   "file_extension": ".py",
   "mimetype": "text/x-python",
   "name": "python",
   "nbconvert_exporter": "python",
   "pygments_lexer": "ipython3",
   "version": "3.8.5"
  }
 },
 "nbformat": 4,
 "nbformat_minor": 5
}
